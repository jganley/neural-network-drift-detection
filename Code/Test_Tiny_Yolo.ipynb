{
  "nbformat": 4,
  "nbformat_minor": 0,
  "metadata": {
    "colab": {
      "name": "Test Tiny Yolo.ipynb",
      "provenance": [],
      "collapsed_sections": [],
      "toc_visible": true
    },
    "kernelspec": {
      "name": "python3",
      "display_name": "Python 3"
    },
    "accelerator": "GPU"
  },
  "cells": [
    {
      "cell_type": "markdown",
      "metadata": {
        "id": "xiVWDdbNHBG7",
        "colab_type": "text"
      },
      "source": [
        "## Mount Google Drive so we can Access Files"
      ]
    },
    {
      "cell_type": "code",
      "metadata": {
        "id": "nSiF3XCbG8om",
        "colab_type": "code",
        "colab": {}
      },
      "source": [
        "%cd ..\n",
        "from google.colab import drive\n",
        "drive.mount('/content/gdrive')"
      ],
      "execution_count": null,
      "outputs": []
    },
    {
      "cell_type": "code",
      "metadata": {
        "id": "_L6l1z0qHR_p",
        "colab_type": "code",
        "colab": {}
      },
      "source": [
        "!ln -s /content/gdrive/My\\ Drive/ /mydrive\n",
        "!ls /mydrive"
      ],
      "execution_count": null,
      "outputs": []
    },
    {
      "cell_type": "markdown",
      "metadata": {
        "id": "I1nPYSzAHXAK",
        "colab_type": "text"
      },
      "source": [
        "## Clone and Build Darknet from AlexyAB"
      ]
    },
    {
      "cell_type": "code",
      "metadata": {
        "id": "TceqnE-NHdCI",
        "colab_type": "code",
        "colab": {}
      },
      "source": [
        "%cd /content/\n",
        "!git clone https://github.com/AlexeyAB/darknet"
      ],
      "execution_count": null,
      "outputs": []
    },
    {
      "cell_type": "code",
      "metadata": {
        "id": "tz6iWCoFHi3m",
        "colab_type": "code",
        "colab": {}
      },
      "source": [
        "%cd darknet\n",
        "!sed -i 's/OPENCV=0/OPENCV=1/' Makefile\n",
        "!sed -i 's/GPU=0/GPU=1/' Makefile\n",
        "!sed -i 's/CUDNN=0/CUDNN=1/' Makefile"
      ],
      "execution_count": null,
      "outputs": []
    },
    {
      "cell_type": "code",
      "metadata": {
        "id": "axeRKw3eHm5L",
        "colab_type": "code",
        "colab": {}
      },
      "source": [
        "!/usr/local/cuda/bin/nvcc --version"
      ],
      "execution_count": null,
      "outputs": []
    },
    {
      "cell_type": "code",
      "metadata": {
        "id": "0UvnmUjOH3y3",
        "colab_type": "code",
        "colab": {}
      },
      "source": [
        "!make"
      ],
      "execution_count": null,
      "outputs": []
    },
    {
      "cell_type": "markdown",
      "metadata": {
        "colab_type": "text",
        "id": "UOe2J8kHbH5L"
      },
      "source": [
        "## Copy in OBJ Folder with Images and Labels"
      ]
    },
    {
      "cell_type": "code",
      "metadata": {
        "colab_type": "code",
        "id": "NjYHAFavbH5O",
        "colab": {}
      },
      "source": [
        "!rm -rf data/obj/"
      ],
      "execution_count": null,
      "outputs": []
    },
    {
      "cell_type": "code",
      "metadata": {
        "colab_type": "code",
        "id": "ZQ6T2-pcbH5S",
        "colab": {}
      },
      "source": [
        "!cp /mydrive/Data/obj.zip ../"
      ],
      "execution_count": null,
      "outputs": []
    },
    {
      "cell_type": "code",
      "metadata": {
        "colab_type": "code",
        "id": "wCSR63qGbH5U",
        "colab": {}
      },
      "source": [
        "!unzip ../obj.zip -d data/"
      ],
      "execution_count": null,
      "outputs": []
    },
    {
      "cell_type": "code",
      "metadata": {
        "colab_type": "code",
        "id": "UAgVFeRCbH5X",
        "colab": {}
      },
      "source": [
        "!mv data/obj data/obj"
      ],
      "execution_count": null,
      "outputs": []
    },
    {
      "cell_type": "markdown",
      "metadata": {
        "id": "JMhxp8TQKmf_",
        "colab_type": "text"
      },
      "source": [
        "## Do the Config Files and Load in Names and Data Files"
      ]
    },
    {
      "cell_type": "code",
      "metadata": {
        "id": "th5_CkuDKpq_",
        "colab_type": "code",
        "colab": {}
      },
      "source": [
        "!cp /mydrive/Replace/yolov3-obj-tiny-test.cfg ./cfg"
      ],
      "execution_count": null,
      "outputs": []
    },
    {
      "cell_type": "code",
      "metadata": {
        "id": "iP9cypxQO3Fz",
        "colab_type": "code",
        "colab": {}
      },
      "source": [
        "!cp /mydrive/Replace/obj.names ./data\n",
        "!cp /mydrive/Replace/obj.data  ./data"
      ],
      "execution_count": null,
      "outputs": []
    },
    {
      "cell_type": "markdown",
      "metadata": {
        "id": "g7NrkYAoOleu",
        "colab_type": "text"
      },
      "source": [
        "## Generate train.txt and test.txt"
      ]
    },
    {
      "cell_type": "code",
      "metadata": {
        "id": "jD14OJYLQU9f",
        "colab_type": "code",
        "colab": {}
      },
      "source": [
        "!cp /mydrive/Scripts/generate_train.py ./"
      ],
      "execution_count": null,
      "outputs": []
    },
    {
      "cell_type": "code",
      "metadata": {
        "id": "8lM1-VisQjbr",
        "colab_type": "code",
        "colab": {}
      },
      "source": [
        "!python generate_train.py"
      ],
      "execution_count": null,
      "outputs": []
    },
    {
      "cell_type": "code",
      "metadata": {
        "id": "zPO4P08nVX4T",
        "colab_type": "code",
        "colab": {}
      },
      "source": [
        "!cp data/train.txt data/test.txt"
      ],
      "execution_count": null,
      "outputs": []
    },
    {
      "cell_type": "markdown",
      "metadata": {
        "id": "4T2SVX93Qo-J",
        "colab_type": "text"
      },
      "source": [
        "## Load in Yolo Tiny Trained Weights"
      ]
    },
    {
      "cell_type": "code",
      "metadata": {
        "id": "3WSC-VBUUcDS",
        "colab_type": "code",
        "colab": {}
      },
      "source": [
        "!cp /mydrive/Backup/yolov3-obj-tiny_last.weights ./"
      ],
      "execution_count": null,
      "outputs": []
    },
    {
      "cell_type": "markdown",
      "metadata": {
        "id": "c5yQ33kEwOFQ",
        "colab_type": "text"
      },
      "source": [
        "## Test the new Tiny Yolo"
      ]
    },
    {
      "cell_type": "code",
      "metadata": {
        "id": "RDI40ydcxP4D",
        "colab_type": "code",
        "colab": {}
      },
      "source": [
        "!./darknet detector map data/obj.data cfg/yolov3-obj-tiny-test.cfg /mydrive/Backup/yolov3-obj-tiny_last.weights -iou_thresh 0.5 -points 0"
      ],
      "execution_count": null,
      "outputs": []
    },
    {
      "cell_type": "code",
      "metadata": {
        "colab_type": "code",
        "id": "CHLQTASHbkgC",
        "colab": {}
      },
      "source": [
        "!./darknet detector map data/obj.data cfg/yolov3-obj-tiny-test.cfg /mydrive/Backup/yolov3-obj-tiny_last.weights -iou_thresh 0.25 -points 0"
      ],
      "execution_count": null,
      "outputs": []
    }
  ]
}