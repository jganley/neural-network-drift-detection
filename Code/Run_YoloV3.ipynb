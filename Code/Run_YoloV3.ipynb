{
  "nbformat": 4,
  "nbformat_minor": 0,
  "metadata": {
    "colab": {
      "name": "Run YoloV3.ipynb",
      "provenance": [],
      "toc_visible": true
    },
    "kernelspec": {
      "name": "python3",
      "display_name": "Python 3"
    },
    "accelerator": "GPU"
  },
  "cells": [
    {
      "cell_type": "markdown",
      "metadata": {
        "id": "xiVWDdbNHBG7",
        "colab_type": "text"
      },
      "source": [
        "## Mount Google Drive so we can Access Files"
      ]
    },
    {
      "cell_type": "code",
      "metadata": {
        "id": "nSiF3XCbG8om",
        "colab_type": "code",
        "colab": {}
      },
      "source": [
        "from google.colab import drive\n",
        "drive.mount('/content/gdrive')"
      ],
      "execution_count": null,
      "outputs": []
    },
    {
      "cell_type": "code",
      "metadata": {
        "id": "_L6l1z0qHR_p",
        "colab_type": "code",
        "colab": {}
      },
      "source": [
        "!ln -s /content/gdrive/My\\ Drive/ /mydrive\n",
        "!ls /mydrive"
      ],
      "execution_count": null,
      "outputs": []
    },
    {
      "cell_type": "markdown",
      "metadata": {
        "id": "I1nPYSzAHXAK",
        "colab_type": "text"
      },
      "source": [
        "## Clone and Build Darknet from AlexyAB"
      ]
    },
    {
      "cell_type": "code",
      "metadata": {
        "id": "TceqnE-NHdCI",
        "colab_type": "code",
        "colab": {}
      },
      "source": [
        "!git clone https://github.com/AlexeyAB/darknet"
      ],
      "execution_count": null,
      "outputs": []
    },
    {
      "cell_type": "code",
      "metadata": {
        "id": "tz6iWCoFHi3m",
        "colab_type": "code",
        "colab": {}
      },
      "source": [
        "%cd darknet\n",
        "!sed -i 's/OPENCV=0/OPENCV=1/' Makefile\n",
        "!sed -i 's/GPU=0/GPU=1/' Makefile\n",
        "!sed -i 's/CUDNN=0/CUDNN=1/' Makefile"
      ],
      "execution_count": null,
      "outputs": []
    },
    {
      "cell_type": "code",
      "metadata": {
        "id": "axeRKw3eHm5L",
        "colab_type": "code",
        "colab": {}
      },
      "source": [
        "!/usr/local/cuda/bin/nvcc --version"
      ],
      "execution_count": null,
      "outputs": []
    },
    {
      "cell_type": "code",
      "metadata": {
        "id": "RNB2WJENH00n",
        "colab_type": "code",
        "colab": {}
      },
      "source": [
        "!cp /mydrive/Replace/image.c ./src/image.c"
      ],
      "execution_count": null,
      "outputs": []
    },
    {
      "cell_type": "code",
      "metadata": {
        "id": "0UvnmUjOH3y3",
        "colab_type": "code",
        "colab": {}
      },
      "source": [
        "!make"
      ],
      "execution_count": null,
      "outputs": []
    },
    {
      "cell_type": "markdown",
      "metadata": {
        "id": "47-d_3xy36U9",
        "colab_type": "text"
      },
      "source": [
        "## Copy Pretrained YOLOv3 Weights"
      ]
    },
    {
      "cell_type": "code",
      "metadata": {
        "id": "v_lAZM-qaasg",
        "colab_type": "code",
        "colab": {}
      },
      "source": [
        "!cp /mydrive/Weights/yolov3.weights ./"
      ],
      "execution_count": null,
      "outputs": []
    },
    {
      "cell_type": "markdown",
      "metadata": {
        "id": "43M2_P2kcCKI",
        "colab_type": "text"
      },
      "source": [
        "## Copy in the Images"
      ]
    },
    {
      "cell_type": "code",
      "metadata": {
        "id": "YpljhMVHOx9X",
        "colab_type": "code",
        "colab": {}
      },
      "source": [
        "!cp /mydrive/Data/obj.zip ../"
      ],
      "execution_count": null,
      "outputs": []
    },
    {
      "cell_type": "code",
      "metadata": {
        "id": "PkmuSgb-nNis",
        "colab_type": "code",
        "colab": {}
      },
      "source": [
        "!rm -rf data/obj"
      ],
      "execution_count": null,
      "outputs": []
    },
    {
      "cell_type": "code",
      "metadata": {
        "id": "45en565PPLce",
        "colab_type": "code",
        "colab": {}
      },
      "source": [
        "!unzip ../obj.zip -d data/"
      ],
      "execution_count": null,
      "outputs": []
    },
    {
      "cell_type": "code",
      "metadata": {
        "id": "k1P0b6dknqs6",
        "colab_type": "code",
        "colab": {}
      },
      "source": [
        "!mv data/obj data/obj"
      ],
      "execution_count": null,
      "outputs": []
    },
    {
      "cell_type": "markdown",
      "metadata": {
        "id": "X11Y-jqpcO2Y",
        "colab_type": "text"
      },
      "source": [
        "## Generate train.txt"
      ]
    },
    {
      "cell_type": "code",
      "metadata": {
        "id": "wbjD__nHcTiG",
        "colab_type": "code",
        "colab": {}
      },
      "source": [
        "!cp /mydrive/Scripts/generate_train.py ./"
      ],
      "execution_count": null,
      "outputs": []
    },
    {
      "cell_type": "code",
      "metadata": {
        "id": "X-_YOLhldGTs",
        "colab_type": "code",
        "colab": {}
      },
      "source": [
        "!python generate_train.py"
      ],
      "execution_count": null,
      "outputs": []
    },
    {
      "cell_type": "markdown",
      "metadata": {
        "id": "B0QgSQc6dIMG",
        "colab_type": "text"
      },
      "source": [
        "## Run the Model and Save Outputs"
      ]
    },
    {
      "cell_type": "code",
      "metadata": {
        "id": "BNAM6mOCdMVr",
        "colab_type": "code",
        "colab": {}
      },
      "source": [
        "!./darknet detector test cfg/coco.data cfg/yolov3.cfg yolov3.weights -dont_show < data/train.txt > /mydrive/Results/result.txt"
      ],
      "execution_count": null,
      "outputs": []
    }
  ]
}