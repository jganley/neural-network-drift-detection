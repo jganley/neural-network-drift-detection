{
  "nbformat": 4,
  "nbformat_minor": 0,
  "metadata": {
    "colab": {
      "name": "Train Tiny Yolo.ipynb",
      "provenance": [],
      "collapsed_sections": [],
      "toc_visible": true
    },
    "kernelspec": {
      "name": "python3",
      "display_name": "Python 3"
    },
    "accelerator": "GPU"
  },
  "cells": [
    {
      "cell_type": "markdown",
      "metadata": {
        "id": "xiVWDdbNHBG7",
        "colab_type": "text"
      },
      "source": [
        "## Mount Google Drive so we can Access Files"
      ]
    },
    {
      "cell_type": "code",
      "metadata": {
        "id": "nSiF3XCbG8om",
        "colab_type": "code",
        "colab": {}
      },
      "source": [
        "%cd ..\n",
        "from google.colab import drive\n",
        "drive.mount('/content/gdrive')"
      ],
      "execution_count": null,
      "outputs": []
    },
    {
      "cell_type": "code",
      "metadata": {
        "id": "_L6l1z0qHR_p",
        "colab_type": "code",
        "colab": {}
      },
      "source": [
        "# create a soft link from collab filesystem to Google Drive file system\n",
        "!ln -s /content/gdrive/My\\ Drive/ /mydrive\n",
        "!ls /mydrive"
      ],
      "execution_count": null,
      "outputs": []
    },
    {
      "cell_type": "markdown",
      "metadata": {
        "id": "I1nPYSzAHXAK",
        "colab_type": "text"
      },
      "source": [
        "## Clone and Build Darknet from AlexyAB"
      ]
    },
    {
      "cell_type": "code",
      "metadata": {
        "id": "TceqnE-NHdCI",
        "colab_type": "code",
        "colab": {}
      },
      "source": [
        "%cd /content/\n",
        "!git clone https://github.com/AlexeyAB/darknet"
      ],
      "execution_count": null,
      "outputs": []
    },
    {
      "cell_type": "code",
      "metadata": {
        "id": "tz6iWCoFHi3m",
        "colab_type": "code",
        "colab": {}
      },
      "source": [
        "%cd darknet\n",
        "!sed -i 's/OPENCV=0/OPENCV=1/' Makefile\n",
        "!sed -i 's/GPU=0/GPU=1/' Makefile\n",
        "!sed -i 's/CUDNN=0/CUDNN=1/' Makefile"
      ],
      "execution_count": null,
      "outputs": []
    },
    {
      "cell_type": "code",
      "metadata": {
        "id": "axeRKw3eHm5L",
        "colab_type": "code",
        "colab": {}
      },
      "source": [
        "!/usr/local/cuda/bin/nvcc --version"
      ],
      "execution_count": null,
      "outputs": []
    },
    {
      "cell_type": "code",
      "metadata": {
        "id": "0UvnmUjOH3y3",
        "colab_type": "code",
        "colab": {}
      },
      "source": [
        "!make"
      ],
      "execution_count": null,
      "outputs": []
    },
    {
      "cell_type": "markdown",
      "metadata": {
        "id": "PYHACSHCKOGv",
        "colab_type": "text"
      },
      "source": [
        "## Copy in OBJ Folder with Images and Labels"
      ]
    },
    {
      "cell_type": "code",
      "metadata": {
        "id": "s_5fF_wPKSlt",
        "colab_type": "code",
        "colab": {}
      },
      "source": [
        " # write in .zip file to copy to collab directory\n",
        "!cp /mydrive/Data/obj.zip ../"
      ],
      "execution_count": null,
      "outputs": []
    },
    {
      "cell_type": "code",
      "metadata": {
        "id": "Jf-l8saFKkiC",
        "colab_type": "code",
        "colab": {}
      },
      "source": [
        "# write in .zip file to unzip\n",
        "!unzip ../obj.zip -d data/"
      ],
      "execution_count": null,
      "outputs": []
    },
    {
      "cell_type": "markdown",
      "metadata": {
        "id": "JMhxp8TQKmf_",
        "colab_type": "text"
      },
      "source": [
        "## Do the Config Files and Load in Names and Data Files"
      ]
    },
    {
      "cell_type": "code",
      "metadata": {
        "id": "th5_CkuDKpq_",
        "colab_type": "code",
        "colab": {}
      },
      "source": [
        "!cp /mydrive/Replace/yolov3-obj-tiny.cfg ./cfg"
      ],
      "execution_count": null,
      "outputs": []
    },
    {
      "cell_type": "code",
      "metadata": {
        "id": "iP9cypxQO3Fz",
        "colab_type": "code",
        "colab": {}
      },
      "source": [
        "!cp /mydrive/Replace/obj.names ./data\n",
        "!cp /mydrive/Replace/obj.data  ./data"
      ],
      "execution_count": null,
      "outputs": []
    },
    {
      "cell_type": "markdown",
      "metadata": {
        "id": "g7NrkYAoOleu",
        "colab_type": "text"
      },
      "source": [
        "## Generate train.txt"
      ]
    },
    {
      "cell_type": "code",
      "metadata": {
        "id": "jD14OJYLQU9f",
        "colab_type": "code",
        "colab": {}
      },
      "source": [
        "!cp /mydrive/Scripts/generate_train.py ./"
      ],
      "execution_count": null,
      "outputs": []
    },
    {
      "cell_type": "code",
      "metadata": {
        "id": "8lM1-VisQjbr",
        "colab_type": "code",
        "colab": {}
      },
      "source": [
        "!python generate_train.py"
      ],
      "execution_count": null,
      "outputs": []
    },
    {
      "cell_type": "markdown",
      "metadata": {
        "id": "4T2SVX93Qo-J",
        "colab_type": "text"
      },
      "source": [
        "## Load in Yolo Tiny Pretrained Weights"
      ]
    },
    {
      "cell_type": "code",
      "metadata": {
        "id": "3WSC-VBUUcDS",
        "colab_type": "code",
        "colab": {}
      },
      "source": [
        "!cp /mydrive/Weights/yolov3-tiny.conv.15 ./"
      ],
      "execution_count": null,
      "outputs": []
    },
    {
      "cell_type": "markdown",
      "metadata": {
        "id": "h7zpruaKUv6l",
        "colab_type": "text"
      },
      "source": [
        "## Train the Model"
      ]
    },
    {
      "cell_type": "code",
      "metadata": {
        "id": "e5HT-McLUyf7",
        "colab_type": "code",
        "colab": {}
      },
      "source": [
        "!./darknet detector train data/obj.data cfg/yolov3-obj-tiny.cfg yolov3-tiny.conv.15 -dont_show"
      ],
      "execution_count": null,
      "outputs": []
    },
    {
      "cell_type": "markdown",
      "metadata": {
        "id": "c5yQ33kEwOFQ",
        "colab_type": "text"
      },
      "source": [
        "## Test the new Tiny Yolo"
      ]
    },
    {
      "cell_type": "code",
      "metadata": {
        "id": "w4Pm0VoqmGia",
        "colab_type": "code",
        "colab": {}
      },
      "source": [
        "# define helper functions\n",
        "def imShow(path):\n",
        "  import cv2\n",
        "  import matplotlib.pyplot as plt\n",
        "  %matplotlib inline\n",
        "\n",
        "  image = cv2.imread(path)\n",
        "  height, width = image.shape[:2]\n",
        "  resized_image = cv2.resize(image,(3*width, 3*height), interpolation = cv2.INTER_CUBIC)\n",
        "\n",
        "  fig = plt.gcf()\n",
        "  fig.set_size_inches(18, 10)\n",
        "  plt.axis(\"off\")\n",
        "  plt.imshow(cv2.cvtColor(resized_image, cv2.COLOR_BGR2RGB))\n",
        "  plt.show()\n",
        "\n",
        "# use this to upload files\n",
        "def upload():\n",
        "  from google.colab import files\n",
        "  uploaded = files.upload() \n",
        "  for name, data in uploaded.items():\n",
        "    with open(name, 'wb') as f:\n",
        "      f.write(data)\n",
        "      print ('saved file', name)\n",
        "\n",
        "# use this to download a file  \n",
        "def download(path):\n",
        "  from google.colab import files\n",
        "  files.download(path)"
      ],
      "execution_count": null,
      "outputs": []
    },
    {
      "cell_type": "code",
      "metadata": {
        "id": "CzWTss9BZaDx",
        "colab_type": "code",
        "colab": {}
      },
      "source": [
        "!cp /mydrive/Replace/yolov3-obj-tiny-test.cfg ./cfg"
      ],
      "execution_count": null,
      "outputs": []
    },
    {
      "cell_type": "code",
      "metadata": {
        "id": "RDI40ydcxP4D",
        "colab_type": "code",
        "colab": {}
      },
      "source": [
        "!./darknet detector test data/obj.data cfg/yolov3-obj-tiny-test.cfg /mydrive/Backup/yolov3-obj-tiny_last.weights /mydrive/Images/jacksonhole.jpg\n",
        "imShow('predictions.jpg')"
      ],
      "execution_count": null,
      "outputs": []
    }
  ]
}